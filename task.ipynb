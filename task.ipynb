{
  "metadata": {
    "kernelspec": {
      "name": "python",
      "display_name": "Python (Pyodide)",
      "language": "python"
    },
    "language_info": {
      "codemirror_mode": {
        "name": "python",
        "version": 3
      },
      "file_extension": ".py",
      "mimetype": "text/x-python",
      "name": "python",
      "nbconvert_exporter": "python",
      "pygments_lexer": "ipython3",
      "version": "3.8"
    }
  },
  "nbformat_minor": 5,
  "nbformat": 4,
  "cells": [
    {
      "id": "a158065c-a38a-4519-8aab-3d9090cf2338",
      "cell_type": "code",
      "source": "'''Student Grading System\nA university wants to categorize student performance based on their marks:\n- 90+ = Grade A\n- 70–89 = Grade B\n- 50–69 = Grade C\n- Below 50 = Fail\nTask: Write a program that takes marks as input and prints the grade.'''\n\nn=int(input(\"Enter student marks: \"))\nif n>=90:\n    print(\"Grade: A\")\nelif n>=70 and n<=89:\n    print(\"Grade: B\")\nelif n>50 and n<=69:\n    print(\"Grade: C\")\nelse:\n    print(\"FAIL\")",
      "metadata": {
        "trusted": true
      },
      "outputs": [
        {
          "output_type": "stream",
          "name": "stdin",
          "text": "Enter student marks:  95\n"
        },
        {
          "name": "stdout",
          "output_type": "stream",
          "text": "Grade: A\n"
        }
      ],
      "execution_count": 4
    },
    {
      "id": "53037304-211b-4c69-82c4-642a0110b6e5",
      "cell_type": "code",
      "source": "'''Movie Ticket Discount\nA theatre offers discounts:\n- Below age 12: 50% off\n- 60 and above: 30% off\n- Otherwise: No discount\nTask: Take age as input and print the ticket price after discount (assume ticket price is\n₹200).\n'''\n\na=int(input(\"enter age:\"))\ntprice=200\nif a<12:\n    d=0.5*tprice\n    print(\"discount: \", d)\n    print(\"to pay:\", tprice-d)\nelif a>=60:\n    d=0.3*tprice\n    print(\"discount: \",d)\n    print(\"to pay: \",tprice-d)\nelse:\n    print(\"to pay: \", tprice)\n    ",
      "metadata": {
        "trusted": true
      },
      "outputs": [
        {
          "output_type": "stream",
          "name": "stdin",
          "text": "enter age: 10\n"
        },
        {
          "name": "stdout",
          "output_type": "stream",
          "text": "discount:  100.0\nto pay: 100.0\n"
        }
      ],
      "execution_count": 5
    },
    {
      "id": "b851b4de-c0f7-4cc0-9c15-6311a325d858",
      "cell_type": "code",
      "source": "'''3.Even-Odd Counter\nA developer needs to count how many even and odd numbers are in a list of integers.\nTask: Take a list of 10 numbers as input and count how many are even and how many are\nodd.'''\n\nl=[]\nc1=0\nc2=0\nfor i in range(0,10):\n    num=int(input())\n    l.append(num)\n    if num%2==0:\n        c1=c1+1;\n    else:\n        c2=c2+1;\nprint(\"No. of even elements:\", c1)\nprint(\"no. of odd elements:\", c2)",
      "metadata": {
        "trusted": true
      },
      "outputs": [],
      "execution_count": null
    },
    {
      "id": "21bcf1c5-ed0d-46b9-ab2f-43f413ddf879",
      "cell_type": "code",
      "source": "''''Password Checker\nA login system asks users to enter a password. It keeps asking until the correct password\n\"admin123\" is entered.\nTask: Implement a loop that checks the password and stops only when the correct one is\ngiven'''\n\npasw=\"admin123\"\nc=0\nwhile(c==0):\n    user=input(\"Enter password: \")\n    if user==pasw:\n        c=1\n    else:\n        print(\"try again\")\nprint(\"password matched\")",
      "metadata": {
        "trusted": true
      },
      "outputs": [
        {
          "output_type": "stream",
          "name": "stdin",
          "text": "Enter password:  admin\n"
        },
        {
          "name": "stdout",
          "output_type": "stream",
          "text": "try again\n"
        },
        {
          "output_type": "stream",
          "name": "stdin",
          "text": "Enter password:  admin123\n"
        },
        {
          "name": "stdout",
          "output_type": "stream",
          "text": "password matched\n"
        }
      ],
      "execution_count": 6
    },
    {
      "id": "637ffefa-b99b-4a33-bb71-90d6faa6be37",
      "cell_type": "code",
      "source": "'''Multiplication Table Generator\nA teacher wants a program to generate multiplication tables for any number.\nTask: Write a function that takes a number and prints its multiplication table up to 10.'''\n\ndef table(n):\n    for i in range(1,11):\n        print(n ,\"x\", i, \"=\",n*i);\nn=int(input(\"enter a number to print its table upto 10: \"))\ntable(n)",
      "metadata": {
        "trusted": true
      },
      "outputs": [],
      "execution_count": null
    },
    {
      "id": "ee9a56d4-1161-42f7-a858-f68aeaba4ec7",
      "cell_type": "code",
      "source": "'''ATM Withdrawal System\nAn ATM gives money in multiples of 100. The balance should be checked before withdrawal.\nTask: Allow users to input an amount. If it's valid and the balance is sufficient, update the\nbalance. Loop until the user chooses to exit.'''\n\nc=\"y\"\nbal=1000\nwhile(c==\"y\"):\n    print(\"WELCOME TO ATM\")\n    print(\"ENTER 1 TO DEPOSIT\")\n    print(\"ENTER 2 TO WITHDRAW\")\n    ch=int(input(\"enter your choice: \"))\n    if ch==1:\n        n=int(input(\"enter amount to deposit:\"))\n        bal=bal+n;\n        print(\"amount deposited successfully!\")\n        print(\"available balance: \", bal)\n    elif ch==2:\n        w=int(input(\"Enter amount to withdraw:\"))\n        if w>bal:\n            print(\"insufficient balance!\")\n        else:\n            print(\"amount withdrawn successfully!\")\n            bal=bal-w\n            print(\"Remaining balance:\", bal)\n    else:\n        print(\"INVALID CHOICE!\")\n    c=input(\"continue?y/n \")  \nprint(\"THANK YOU FOR USING THE ATM\")\n        ",
      "metadata": {
        "trusted": true
      },
      "outputs": [],
      "execution_count": null
    },
    {
      "id": "5ec7c6e8-c963-4199-97dd-4f88dd1d7318",
      "cell_type": "code",
      "source": "'''Star Pattern Printer\nA school wants to print a triangle star pattern for decoration.\nTask: Write a program to print the following for a given number of rows (e.g., 5):\n*\n**\n***\n****\n***** '''\n\nfor i in range(1,7):\n    for j in range(1,i):\n        print('*', end=\"\")\n    print()",
      "metadata": {
        "trusted": true
      },
      "outputs": [
        {
          "name": "stdout",
          "output_type": "stream",
          "text": "\n*\n**\n***\n****\n*****\n"
        }
      ],
      "execution_count": 9
    },
    {
      "id": "18f6c43e-57a3-4b6c-aad4-7f39d83a252e",
      "cell_type": "code",
      "source": "'''Basic Calculator\nBuild a calculator that can add, subtract, multiply, or divide two numbers.\nTask: Create a function for each operation. Take the user's choice and perform that\noperation.'''\n\na=int(input(\"enter first operand\"))\nb=int(input(\"enter second operand\"))\ndef add(a,b):\n    return a+b\ndef sub(a,b):\n    return a-b\ndef mul(a,b):\n    return a*b\ndef div(a,b):\n    return a//b\nprint(\"Enter 1 for addition\")\nprint(\"enter 2 for subtraction\")\nprint(\"enter 3 for multiplication\")\nprint(\"enter 4 for division\")\nch=int(input(\"Enter your choice: \"))\nif ch==1:\n    a=add(a,b)\n    print(a)\nelif ch==2:\n    a=sub(a,b)\n    print(a)\nelif ch==3:\n    a=mul(a,b)\n    print(a)\nelif ch==4:\n    a=div(a,b)\n    print(a)",
      "metadata": {
        "trusted": true
      },
      "outputs": [
        {
          "output_type": "stream",
          "name": "stdin",
          "text": "enter first operand 5\nenter second operand 5\n"
        },
        {
          "name": "stdout",
          "output_type": "stream",
          "text": "Enter 1 for addition\nenter 2 for subtraction\nenter 3 for multiplication\nenter 4 for division\n"
        },
        {
          "output_type": "stream",
          "name": "stdin",
          "text": "Enter your choice:  1\n"
        },
        {
          "name": "stdout",
          "output_type": "stream",
          "text": "10\n"
        }
      ],
      "execution_count": 10
    },
    {
      "id": "900e46c9-d3e3-4e5d-967d-e6110a2ca75f",
      "cell_type": "code",
      "source": "'''Library Late Fine Calculator\nA library charges a fine for late returns:\n- 1–5 days: ₹2 per day\n- 6–10 days: ₹5 per day\n- >10 days: ₹10 per day\nTask: Write a function that takes number of late days and returns the fine.'''\n\ndef fine(days):\n    if days>=1 and days<=5:\n        print(\"fine: rs.\", days*2)\n    elif days>=6 and days<=10:\n        print(\"fine: rs.\", days*5)\n    else:\n        print(\"fine: rs.\", days*10)\ndays=int(input(\"Enter number of days: \"))\nfine(days)\n    ",
      "metadata": {
        "trusted": true
      },
      "outputs": [
        {
          "output_type": "stream",
          "name": "stdin",
          "text": "Enter number of days:  3\n"
        },
        {
          "name": "stdout",
          "output_type": "stream",
          "text": "fine: rs. 6\n"
        }
      ],
      "execution_count": 11
    },
    {
      "id": "e742a564-34d3-49cb-9995-c5475551dea3",
      "cell_type": "code",
      "source": "'''Hotel Menu Ordering System\nA hotel has a menu with breakfast and lunch options. The user selects the category and then\nan item.\nTask: Use nested if and function to:\n- Show menu\n- Take user's selection\n- Print selected item and price.'''\n\nbitems={\"toasted bread\": 50,\"omelete\": 80,\"steamed eggs\": 20}\nlitems={\"masala paneer\": 120,\"chicken biryani\": 200,\"fish\": 170}\n#show menu\nprint(\"HOTEL MENU ORDERING SYSTEM\")\ndef showbreakfast():\n    print(\"==========MENU============\")\n    print(\"--------BREAKFAST---------\")\n    for i in bitems:\n        print(i)\ndef showlunch():\n    print(\"==========MENU============\")\n    print(\"----------LUNCH-----------\")\n    for i in litems:\n        print(i)\n#take user's selection\nc=input(\"press b for breakfast or l for lunch: \")\nif c==\"b\":\n    showbreakfast()\n    ch=input(\"Enter your choice: \")\n    if ch in bitems:\n        print(ch,bitems[ch])\nif c==\"l\":\n    showlunch()\n    ch=input(\"Enter your choice: \")\n    if ch in litems:\n        print(ch,litems[ch])    ",
      "metadata": {
        "trusted": true
      },
      "outputs": [
        {
          "name": "stdout",
          "output_type": "stream",
          "text": "HOTEL MENU ORDERING SYSTEM\n"
        },
        {
          "output_type": "stream",
          "name": "stdin",
          "text": "press b for breakfast or l for lunch:  l\n"
        },
        {
          "name": "stdout",
          "output_type": "stream",
          "text": "==========MENU============\n----------LUNCH-----------\nmasala paneer\nchicken biryani\nfish\n"
        },
        {
          "output_type": "stream",
          "name": "stdin",
          "text": "Enter your choice:  fish\n"
        },
        {
          "name": "stdout",
          "output_type": "stream",
          "text": "fish 170\n"
        }
      ],
      "execution_count": 14
    },
    {
      "id": "6ba40c0c-5bd8-4af4-aec3-ea10ef801262",
      "cell_type": "code",
      "source": "",
      "metadata": {
        "trusted": true
      },
      "outputs": [],
      "execution_count": null
    }
  ]
}