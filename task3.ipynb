{
  "metadata": {
    "kernelspec": {
      "name": "python",
      "display_name": "Python (Pyodide)",
      "language": "python"
    },
    "language_info": {
      "codemirror_mode": {
        "name": "python",
        "version": 3
      },
      "file_extension": ".py",
      "mimetype": "text/x-python",
      "name": "python",
      "nbconvert_exporter": "python",
      "pygments_lexer": "ipython3",
      "version": "3.8"
    }
  },
  "nbformat_minor": 5,
  "nbformat": 4,
  "cells": [
    {
      "id": "c622ac4e-39f7-43b6-871a-fe445870259b",
      "cell_type": "code",
      "source": "'''1. Create a set of 5 unique numbers. Add a new number to the set and print the updated\nset.'''\n\ns={1,2,3,4,5}\ns.add(6)\nprint(s)",
      "metadata": {
        "trusted": true
      },
      "outputs": [
        {
          "name": "stdout",
          "output_type": "stream",
          "text": "{1, 2, 3, 4, 5, 6}\n"
        }
      ],
      "execution_count": 1
    },
    {
      "id": "2963ea37-f45c-4309-92ae-2c70aaef3981",
      "cell_type": "code",
      "source": "'''2. Write a program to find the union of two sets: {1, 2, 3} and {3, 4, 5}'''\n\ns1={1,2,3}\ns2={3,4,5}\ns3=s1.union(s2)\nprint(s3)",
      "metadata": {
        "trusted": true
      },
      "outputs": [
        {
          "name": "stdout",
          "output_type": "stream",
          "text": "{1, 2, 3, 4, 5}\n"
        }
      ],
      "execution_count": 2
    },
    {
      "id": "eea74d0a-0363-4751-8316-877a163c23fe",
      "cell_type": "code",
      "source": "'''. 3. Create a dictionary with names as keys and ages as values. Print the age of a specific\nperson'''\n\nd={\"raj\": 20, \"suman\": 23, \"mohit\": 25}\nn=input(\"enter name to search age:\")\nfor i in d:\n    if i==n:\n        print(d[i])",
      "metadata": {
        "trusted": true
      },
      "outputs": [
        {
          "output_type": "stream",
          "name": "stdin",
          "text": "enter name to search age: raj\n"
        },
        {
          "name": "stdout",
          "output_type": "stream",
          "text": "20\n"
        }
      ],
      "execution_count": 5
    },
    {
      "id": "1d3abb4d-5d76-4eb5-b821-a244a0595fcb",
      "cell_type": "code",
      "source": "'''4. Check if a given key exists in a dictionary. If not, add it with a default value'''\n\nd={1:34,2:45,3:56}\nde=67#default value\nn=int(input(\"enter a key to check: \"))\nif n in d:\n    print(\"already present\")\nelse:\n    d[n]=de\nprint(d)\n",
      "metadata": {
        "trusted": true
      },
      "outputs": [
        {
          "output_type": "stream",
          "name": "stdin",
          "text": "enter a key to check:  4\n"
        },
        {
          "name": "stdout",
          "output_type": "stream",
          "text": "{1: 34, 2: 45, 3: 56, 4: 67}\n"
        }
      ],
      "execution_count": 8
    },
    {
      "id": "eb1d69bb-f05e-43fe-8f3f-e9af9ee9915a",
      "cell_type": "code",
      "source": "'''5. Remove a specific item from a set and display the updated set.'''\n\ns={1,2,3,4,6,8}\nn=int(input(\"enter an item to remove:\"))\ns.discard(n)\nprint(s)",
      "metadata": {
        "trusted": true
      },
      "outputs": [
        {
          "output_type": "stream",
          "name": "stdin",
          "text": "enter an item to remove: 8\n"
        },
        {
          "name": "stdout",
          "output_type": "stream",
          "text": "{1, 2, 3, 4, 6}\n"
        }
      ],
      "execution_count": 10
    },
    {
      "id": "6532b377-fcde-4563-9eda-fc436e45de18",
      "cell_type": "code",
      "source": "'''6. Write a program to count the number of times each word appears in a sentence using\na list.'''\n\ns=\"python is an interpreted language python is fun to learn because python is simple and powerful.\"\ns.lower()\nl=s.split()\nprint(\"number of words:\", len(l))\n",
      "metadata": {
        "trusted": true
      },
      "outputs": [
        {
          "name": "stdout",
          "output_type": "stream",
          "text": "number of words: 16\n"
        }
      ],
      "execution_count": 16
    },
    {
      "id": "d1811ae0-fdc7-49d6-a127-59d2deff7aac",
      "cell_type": "code",
      "source": "''' 7. Create a set with duplicate values and print the set to show that duplicates are not\nallowed.'''\n\ns={1,2,2,4,6,4,7,6}\ns1=set()\nfor i in s:\n    if i not in s1:\n        s1.add(i)\nprint(s1)\n",
      "metadata": {
        "trusted": true
      },
      "outputs": [
        {
          "name": "stdout",
          "output_type": "stream",
          "text": "{1, 2, 4, 6, 7}\n"
        }
      ],
      "execution_count": 13
    },
    {
      "id": "0956c8ec-abd1-4a3d-8394-4e1dec3c2aa7",
      "cell_type": "code",
      "source": "''' 8. Merge two dictionaries into one and print the result'''\n\nd1={1:23,2:34,3:45,4:56}\nd2={5:67,6:78}\nd1.update(d2)\nprint(d1)",
      "metadata": {
        "trusted": true
      },
      "outputs": [
        {
          "name": "stdout",
          "output_type": "stream",
          "text": "{1: 23, 2: 34, 3: 45, 4: 56, 5: 67, 6: 78}\n"
        }
      ],
      "execution_count": 15
    },
    {
      "id": "be938cb8-2597-4128-a8cc-95dda1f5b8d9",
      "cell_type": "code",
      "source": "'''9. Use a dictionary to store student names and their scores. Calculate the average score'''\n\nd={\"raj\": 78, \"suman\": 89, \"mohit\": 90}\nsum=0\nfor i in d:\n    sum=sum+d[i]\nprint(\"average: \",sum//len(d))",
      "metadata": {
        "trusted": true
      },
      "outputs": [
        {
          "name": "stdout",
          "output_type": "stream",
          "text": "average:  85\n"
        }
      ],
      "execution_count": 18
    },
    {
      "id": "f39f0c63-ee13-4988-9eb1-ed3388d87101",
      "cell_type": "code",
      "source": "'''10. Write a program to find the intersection of two sets: {'apple', 'banana', 'cherry'} and\n{'banana', 'cherry', 'date'}'''\n\ns1={'apple', 'banana', 'cherry'}\ns2={'banana', 'cherry', 'date'}\n\ni=s1.intersection(s2)\nprint(\"intersection:\", i)",
      "metadata": {
        "trusted": true
      },
      "outputs": [
        {
          "name": "stdout",
          "output_type": "stream",
          "text": "intersection: {'cherry', 'banana'}\n"
        }
      ],
      "execution_count": 19
    },
    {
      "id": "9fa3eb81-1ccd-432b-b7f3-9d417dc0a5e0",
      "cell_type": "code",
      "source": "",
      "metadata": {
        "trusted": true
      },
      "outputs": [],
      "execution_count": null
    }
  ]
}