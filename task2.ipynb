{
  "metadata": {
    "kernelspec": {
      "name": "python",
      "display_name": "Python (Pyodide)",
      "language": "python"
    },
    "language_info": {
      "codemirror_mode": {
        "name": "python",
        "version": 3
      },
      "file_extension": ".py",
      "mimetype": "text/x-python",
      "name": "python",
      "nbconvert_exporter": "python",
      "pygments_lexer": "ipython3",
      "version": "3.8"
    }
  },
  "nbformat_minor": 5,
  "nbformat": 4,
  "cells": [
    {
      "id": "c4434303-7d4a-4918-a9d1-9ecf5e233d89",
      "cell_type": "code",
      "source": "'''Total Marks Calculator\nA teacher wants to calculate the total marks of 5 students. The marks are stored in a list. Write a Python function to calculate and return the total.\n'''\n\nl1=[45,56,67,78,99]\nsum=0\nfor i in l1:\n    sum=sum+i\nprint(sum)",
      "metadata": {
        "trusted": true
      },
      "outputs": [
        {
          "name": "stdout",
          "output_type": "stream",
          "text": "345\n"
        }
      ],
      "execution_count": 1
    },
    {
      "id": "e4a8056f-70ed-4767-9598-c3b6102f309f",
      "cell_type": "code",
      "source": "''' pass or Fail Checker\nGiven a list of student scores, write a function to print \"Pass\" if score is above 40, otherwise \"Fail\", using if-else and loop.'''\n\nl=[45,23,56,78,33,78]\nfor i in l:\n    if i>40:\n        print(\"PASS\")\n    else:\n        print(\"FAIL\")",
      "metadata": {
        "trusted": true
      },
      "outputs": [
        {
          "name": "stdout",
          "output_type": "stream",
          "text": "PASS\nFAIL\nPASS\nPASS\nFAIL\nPASS\n"
        }
      ],
      "execution_count": 2
    },
    {
      "id": "1f59a2f9-13da-4c23-9a50-b23eeb9954b6",
      "cell_type": "code",
      "source": "'''Tuple to List Converter\nTake a tuple of fruits and convert it into a list using a loop. Then add a new fruit to the list'''\n\nl=[]\nt=(\"apple\",\"pear\",\"banana\",\"mango\")\nfor i in t:\n    l.append(i)\nl.append(\"strawberry\")\nt=tuple(l)\nprint(t)",
      "metadata": {
        "trusted": true
      },
      "outputs": [
        {
          "name": "stdout",
          "output_type": "stream",
          "text": "('apple', 'pear', 'banana', 'mango', 'strawberry')\n"
        }
      ],
      "execution_count": 3
    },
    {
      "id": "f94d18a5-efc2-4d47-b7f7-0c4756be8616",
      "cell_type": "code",
      "source": "'''Find the Maximum Number\nWrite a function to find the maximum number from a list without using the max() function.'''\n\nl=[1,3,5,8,2,6,2]\nm=l[0]\nfor i in l:\n    if i>m:\n        m=i\nprint(\"max no.: \", m)\n",
      "metadata": {
        "trusted": true
      },
      "outputs": [
        {
          "name": "stdout",
          "output_type": "stream",
          "text": "max no.:  8\n"
        }
      ],
      "execution_count": 37
    },
    {
      "id": "a686436d-2328-4165-97cc-24310758bcc1",
      "cell_type": "code",
      "source": "'''Count Even and Odd Numbers\nCreate a function that takes a list of integers and counts how many are even and how many are odd.'''\n\ndef count(l):\n    ce=0\n    co=0\n    for i in l:\n        if i%2==0:\n            ce+=1\n        else:\n            co+=1\n    print(\"number of even elements:\", ce)\n    print(\"number of odd elements:\", co)\nl=[1,2,3,4,5,6,7,8]\ncount(l)",
      "metadata": {
        "trusted": true
      },
      "outputs": [
        {
          "name": "stdout",
          "output_type": "stream",
          "text": "number of even elements: 4\nnumber of odd elements: 4\n"
        }
      ],
      "execution_count": 8
    },
    {
      "id": "adf8426e-33ac-4cc3-b797-eb7f0b0635d0",
      "cell_type": "code",
      "source": "'''Duplicate Remover from List\nA student accidentally added the same number multiple times. Write a function that removes duplicates from the list.\n'''\nl=[2,3,3,3,4,4,6,8,7,6]\nl1=[]\nfor i in l:\n    if i not in l1:\n        l1.append(i)\nprint(l1)",
      "metadata": {
        "trusted": true
      },
      "outputs": [
        {
          "name": "stdout",
          "output_type": "stream",
          "text": "[2, 3, 4, 6, 8, 7]\n"
        }
      ],
      "execution_count": 9
    },
    {
      "id": "3c879661-03e5-4de5-992b-078eaa1bf543",
      "cell_type": "code",
      "source": "'''Sort Tuple of Marks\nGiven a tuple of marks, write a function to convert it to a list, sort it, and then convert it back to a tuple.\n'''\n\nt=(1,3,4,6,7,5)\nl=list(t)\nl.sort()\nt=tuple(l)\nprint(t)",
      "metadata": {
        "trusted": true
      },
      "outputs": [
        {
          "name": "stdout",
          "output_type": "stream",
          "text": "(1, 3, 4, 5, 6, 7)\n"
        }
      ],
      "execution_count": 11
    },
    {
      "id": "ab6c076c-7737-486f-89c9-80062d414f12",
      "cell_type": "code",
      "source": "'''Grade Distributor\nGiven a list of marks, write a program that assigns grades:\n\nA: 90+, B: 70–89, C: 50–69, F: below 50'''\n\nl=[45,55,78,94,56,89]\nfor i in l:\n    if i>=90:\n        print(\"grade: A\")\n    elif i<=89 and i>=70:\n        print(\"grade: B\")\n    elif i<=69 and i>=50:\n        print(\"grade: C\")\n    else:\n        print(\"grade: F\")\n            ",
      "metadata": {
        "trusted": true
      },
      "outputs": [
        {
          "name": "stdout",
          "output_type": "stream",
          "text": "grade: F\ngrade: C\ngrade: B\ngrade: A\ngrade: C\ngrade: B\n"
        }
      ],
      "execution_count": 13
    },
    {
      "id": "62c658f5-79dc-4bfc-9c52-b4c322c4a35f",
      "cell_type": "code",
      "source": "'''Reverse List Without Built-in Function\nReverse a list manually using a loop.'''\n\nl=[1,2,3,4,5,6,7,8]\nlr=[]\nn=len(l)\nfor i in range(n-1,-1,-1):\n    lr.append(l[i])\nprint(lr)",
      "metadata": {
        "trusted": true
      },
      "outputs": [
        {
          "name": "stdout",
          "output_type": "stream",
          "text": "[8, 7, 6, 5, 4, 3, 2, 1]\n"
        }
      ],
      "execution_count": 18
    },
    {
      "id": "a67ff670-890d-492c-a880-3eea92f11b1d",
      "cell_type": "code",
      "source": "'''Sum of Nested List\nWrite a function to sum all integers inside a nested list like: [[1, 2], [3, 4], [5]].'''\n\nl=[[1,2],[3,4,5],[5,6]]\nl1=[]\nfor i in l:\n    sum=0\n    for j in range(len(i)):\n        sum=sum+i[j]\n    l1.append(sum)\nprint(l1)\n        ",
      "metadata": {
        "trusted": true
      },
      "outputs": [
        {
          "name": "stdout",
          "output_type": "stream",
          "text": "[3, 12, 11]\n"
        }
      ],
      "execution_count": 19
    },
    {
      "id": "07d54fba-4fd7-49be-88f6-9520b555866c",
      "cell_type": "code",
      "source": "'''Check Palindrome Using Tuple\nGiven a tuple of characters, check if the elements form a palindrome (same forward and backward).'''\n\nt=('m','a','d','a','m')\nl=list(t)\nl.reverse()\nt1=tuple(l)\nprint(t1)\nif t==t1:\n    print(\"palindrome\")\nelse:\n    print(\"not palindrome\")\n",
      "metadata": {
        "trusted": true
      },
      "outputs": [
        {
          "name": "stdout",
          "output_type": "stream",
          "text": "('m', 'a', 'd', 'a', 'm')\npalindrome\n"
        }
      ],
      "execution_count": 22
    },
    {
      "id": "c2afc982-42dd-460f-87d5-440905f7114c",
      "cell_type": "code",
      "source": "'''Frequency Counter Without collections\nWrite a function that counts frequency of each number in a list and returns a list of tuples in format (number, frequency).'''\n\nl=[1,2,3,3,4,4,5,4,2,4,5,9]\nl1=[]\nfor i in l:\n    if (i,l.count(i)) not in l1:\n        l1.append((i,l.count(i)))\nprint(l1)",
      "metadata": {
        "trusted": true
      },
      "outputs": [
        {
          "name": "stdout",
          "output_type": "stream",
          "text": "[(1, 1), (2, 2), (3, 2), (4, 4), (5, 2), (9, 1)]\n"
        }
      ],
      "execution_count": 27
    },
    {
      "id": "52553563-25f2-4eb1-a36b-67135d2cfe68",
      "cell_type": "code",
      "source": "'''Find Second Highest Number\nWrite a program that finds the second highest number from a list without using sort() or max() more than once.'''\n\nl=[7,5,3,7,0,4,2,5,9]\nl.sort()\nl.pop()\nprint(l[-1])",
      "metadata": {
        "trusted": true
      },
      "outputs": [
        {
          "name": "stdout",
          "output_type": "stream",
          "text": "7\n"
        }
      ],
      "execution_count": 29
    },
    {
      "id": "cf461059-92fe-4676-8a9e-dd314a211d7d",
      "cell_type": "code",
      "source": "'''index Mapper for List\nGiven a list of words, create a tuple of word and its index position in the format:\n[‘apple’, ‘banana’, ‘cherry’] → [(‘apple’,0), (‘banana’,1), (‘cherry’,2)]'''\n\nl=[\"apple\", \"banana\", \"cherry\"]\nl1=[]\nfor i in l:\n    l1.append((i,l.index(i)))\nprint(l1)",
      "metadata": {
        "trusted": true
      },
      "outputs": [
        {
          "name": "stdout",
          "output_type": "stream",
          "text": "[('apple', 0), ('banana', 1), ('cherry', 2)]\n"
        }
      ],
      "execution_count": 31
    },
    {
      "id": "92d0be08-9eee-4cf7-9c3d-466f16c3590f",
      "cell_type": "code",
      "source": "'''Group Students by Even-Odd Roll Numbers\nGiven a tuple of roll numbers, separate them into two lists: one for even roll numbers and another for odd.'''\n\nt=(1,3,4,6,8,5,2)\nl1=[]\nl2=[]\nl=list(t)\nfor i in l:\n    if i%2==0:\n        l1.append(i)\n    else:\n        l2.append(i)\nprint(l1)\nprint(l2)",
      "metadata": {
        "trusted": true
      },
      "outputs": [
        {
          "name": "stdout",
          "output_type": "stream",
          "text": "[4, 6, 8, 2]\n[1, 3, 5]\n"
        }
      ],
      "execution_count": 33
    },
    {
      "id": "83421fb3-0e75-4961-85f6-22848487b266",
      "cell_type": "code",
      "source": "'''Tuple of Top 3 Scores\nWrite a function that takes a list of scores and returns a tuple of top 3 highest scores using loop logic only.'''\n\nl=[45,67,34,89,90,46,78]\nl.sort()\nt=[]\nfor i in range(3):\n    t.append(l[-1])\n    l.remove(l[-1])\nt=tuple(t)\nprint(t)",
      "metadata": {
        "trusted": true
      },
      "outputs": [
        {
          "name": "stdout",
          "output_type": "stream",
          "text": "(90, 89, 78)\n"
        }
      ],
      "execution_count": 40
    },
    {
      "id": "71a9cf96-85f9-40da-b294-ec1f6fb9115a",
      "cell_type": "code",
      "source": "'''List Rotation Logic\nRotate a list to the left by k positions using loop (e.g., [1,2,3,4,5] rotated by 2 → [3,4,5,1,2]).'''\n\nl=[1,2,3,4,5]\nn=int(input(\"enter no. of rotations: \"))\nfor i in range(n):\n    a=l.pop(0)\n    l.append(a)\nprint(l)\n",
      "metadata": {
        "trusted": true
      },
      "outputs": [
        {
          "output_type": "stream",
          "name": "stdin",
          "text": "enter no. of rotations:  2\n"
        },
        {
          "name": "stdout",
          "output_type": "stream",
          "text": "[3, 4, 5, 1, 2]\n"
        }
      ],
      "execution_count": 42
    },
    {
      "id": "2ac4e4e1-8da6-48c4-a0f0-7d81750d6233",
      "cell_type": "code",
      "source": "'''Marks Statistics Function\nGiven a list of marks, write a function that returns a tuple: (max_marks, min_marks, average_marks).'''\n\nl=[56,34,65,89,56,68,90]\nl.sort()\nsum=0\nfor i in l:\n    sum+=i\nt=(l[-1],l[0],sum//len(l))\nprint(t)",
      "metadata": {
        "trusted": true
      },
      "outputs": [
        {
          "name": "stdout",
          "output_type": "stream",
          "text": "(90, 34, 65)\n"
        }
      ],
      "execution_count": 45
    },
    {
      "id": "f4e783b1-5b22-42cf-a710-fc7239c23a79",
      "cell_type": "code",
      "source": "'''Search Word and Its Count\nGiven a paragraph split into a list of words, search for a particular word and return how many times it appeared.'''\n\ns=\"python is an interpreted languages python is fun to learn because python is simple and powerful.\"\nl=s.split()\nw=input(\"enter a word to count\")\nif w in l:\n    print(w,\"appeared\",l.count(w),\"times\")\nelse:\n    print(\"word not found\")",
      "metadata": {
        "trusted": true
      },
      "outputs": [
        {
          "output_type": "stream",
          "name": "stdin",
          "text": "enter a word to count python\n"
        },
        {
          "name": "stdout",
          "output_type": "stream",
          "text": "python appeared 3 times\n"
        }
      ],
      "execution_count": 47
    },
    {
      "id": "41a99d2a-b028-41f4-b5e4-8e0a26b46384",
      "cell_type": "code",
      "source": "'''Zip Two Lists into Tuple List Without zip()\nTake two lists of equal length (e.g., names and marks) and manually combine them into a list of tuples: [(name, mark)].'''\n\nl1=[\"aditi\",\"suman\",\"raj\",\"anjali\"]\nl2=[78,89,67,56]\nn=len\n\nl=[]\nfor i,j in l1,l2:\n    l.append((i,j))\nprint(l)",
      "metadata": {
        "trusted": true
      },
      "outputs": [
        {
          "ename": "<class 'ValueError'>",
          "evalue": "too many values to unpack (expected 2)",
          "traceback": [
            "\u001b[0;31m---------------------------------------------------------------------------\u001b[0m",
            "\u001b[0;31mValueError\u001b[0m                                Traceback (most recent call last)",
            "Cell \u001b[0;32mIn[48], line 7\u001b[0m\n\u001b[1;32m      5\u001b[0m l2\u001b[38;5;241m=\u001b[39m[\u001b[38;5;241m78\u001b[39m,\u001b[38;5;241m89\u001b[39m,\u001b[38;5;241m67\u001b[39m,\u001b[38;5;241m56\u001b[39m]\n\u001b[1;32m      6\u001b[0m l\u001b[38;5;241m=\u001b[39m[]\n\u001b[0;32m----> 7\u001b[0m \u001b[38;5;28;01mfor\u001b[39;00m i,j \u001b[38;5;129;01min\u001b[39;00m l1,l2:\n\u001b[1;32m      8\u001b[0m     l\u001b[38;5;241m.\u001b[39mappend((i,j))\n\u001b[1;32m      9\u001b[0m \u001b[38;5;28mprint\u001b[39m(l)\n",
            "\u001b[0;31mValueError\u001b[0m: too many values to unpack (expected 2)"
          ],
          "output_type": "error"
        }
      ],
      "execution_count": 48
    },
    {
      "id": "fdf3797c-8454-47ce-9794-7e7076e74e89",
      "cell_type": "code",
      "source": "",
      "metadata": {
        "trusted": true
      },
      "outputs": [],
      "execution_count": null
    }
  ]
}